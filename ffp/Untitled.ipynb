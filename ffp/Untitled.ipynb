{
 "cells": [
  {
   "cell_type": "markdown",
   "id": "57387293-60ad-4610-bedc-b8f02aad07cb",
   "metadata": {},
   "source": [
    "# Fresnel'sche Formeln und Polarisation"
   ]
  },
  {
   "cell_type": "code",
   "execution_count": 11,
   "id": "1c30f8b1-8164-4b22-a2ab-fb97d08c4e0c",
   "metadata": {},
   "outputs": [],
   "source": [
    "import numpy as np\n",
    "import matplotlib.pyplot as plt\n",
    "import pandas as pd"
   ]
  },
  {
   "cell_type": "code",
   "execution_count": 21,
   "id": "55e72f1d-cf7d-42bd-8dcc-fb18eb05903b",
   "metadata": {},
   "outputs": [],
   "source": [
    "df_p = pd.read_csv(\"./polarisator.csv\", sep=\";\")\n",
    "df_r = pd.read_csv(\"./referenz.csv\", sep=\";\")\n",
    "df_a = pd.read_csv(\"./analysator.csv\", sep=\";\")\n",
    "\n",
    "gamma = df_a[\"gamma\"].values\n",
    "gamma[gamma < 0] = gamma[gamma < 0] + 180\n"
   ]
  },
  {
   "cell_type": "code",
   "execution_count": 13,
   "id": "48eea3b6-ea63-40b6-981b-610ae3ba867c",
   "metadata": {},
   "outputs": [
    {
     "data": {
      "text/plain": [
       "<matplotlib.collections.PathCollection at 0x7ff0ac66b940>"
      ]
     },
     "execution_count": 13,
     "metadata": {},
     "output_type": "execute_result"
    },
    {
     "data": {
      "image/png": "[encoded data removed]",
      "text/plain": [
       "<Figure size 432x288 with 1 Axes>"
      ]
     },
     "metadata": {
      "needs_background": "light"
     },
     "output_type": "display_data"
    }
   ],
   "source": [
    "plt.scatter(90 - df_p[\"phi\"].values/2, df_p[\"U_0\"].values)\n",
    "plt.scatter(90 - df_p[\"phi\"].values/2, df_p[\"U_90\"].values)"
   ]
  },
  {
   "cell_type": "code",
   "execution_count": 22,
   "id": "550d45e7-2bd5-4220-9402-04ecf1b43bc1",
   "metadata": {},
   "outputs": [
    {
     "data": {
      "text/plain": [
       "<matplotlib.collections.PathCollection at 0x7ff0ad78c910>"
      ]
     },
     "execution_count": 22,
     "metadata": {},
     "output_type": "execute_result"
    },
    {
     "data": {
      "image/png": "[encoded data removed]",
      "text/plain": [
       "<Figure size 432x288 with 1 Axes>"
      ]
     },
     "metadata": {
      "needs_background": "light"
     },
     "output_type": "display_data"
    }
   ],
   "source": [
    "plt.scatter(90 - df_a[\"phi\"].values/2, gamma)"
   ]
  },
  {
   "cell_type": "code",
   "execution_count": null,
   "id": "35ade2a7-4381-4cf3-b13e-0bbf4d4745f4",
   "metadata": {},
   "outputs": [],
   "source": []
  }
 ],
 "metadata": {
  "kernelspec": {
   "display_name": "Python 3 (ipykernel)",
   "language": "python",
   "name": "python3"
  },
  "language_info": {
   "codemirror_mode": {
    "name": "ipython",
    "version": 3
   },
   "file_extension": ".py",
   "mimetype": "text/x-python",
   "name": "python",
   "nbconvert_exporter": "python",
   "pygments_lexer": "ipython3",
   "version": "3.8.7"
  }
 },
 "nbformat": 4,
 "nbformat_minor": 5
}
