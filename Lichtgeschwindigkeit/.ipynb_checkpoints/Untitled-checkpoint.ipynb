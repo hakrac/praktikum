{
 "cells": [
  {
   "cell_type": "markdown",
   "id": "9a121b0f-bf45-4d7a-a645-caa4eed6a400",
   "metadata": {},
   "source": [
    "# Messung der Lichtgeschwindigkeit"
   ]
  },
  {
   "cell_type": "code",
   "execution_count": 55,
   "id": "239c9563-1884-4b1e-b8d3-87b9d2cb1497",
   "metadata": {},
   "outputs": [],
   "source": [
    "import numpy as np\n",
    "import matplotlib.pyplot as plt\n",
    "import pandas as pd"
   ]
  },
  {
   "cell_type": "markdown",
   "id": "170e84b7-4fd5-411e-81c0-8693fe9c7e59",
   "metadata": {},
   "source": [
    "## Konstanten"
   ]
  },
  {
   "cell_type": "code",
   "execution_count": 28,
   "id": "7b6704b0-9e8c-4418-b352-8d128a1ff4d5",
   "metadata": {},
   "outputs": [],
   "source": [
    "l_a = 490 # Länge des Acrylstabs\n",
    "l_w = 500 # Länge der Rohrküvette\n",
    "s_z = 1\n",
    "s_t = 0.04 * 10**-9"
   ]
  },
  {
   "cell_type": "code",
   "execution_count": 29,
   "id": "72d56150-3291-44b1-a53b-3dd9ea425d7f",
   "metadata": {},
   "outputs": [],
   "source": [
    "df_l = pd.read_csv(\"./lichtg_luft.csv\", sep=\";\")\n",
    "df_w = pd.read_csv(\"./lichtg_wasser.csv\", sep=\";\")\n",
    "df_a = pd.read_csv(\"./lichtg_acryl.csv\", sep=\";\")"
   ]
  },
  {
   "cell_type": "code",
   "execution_count": 59,
   "id": "dffb7bb4-8723-4499-b8b7-2ca3227ba08f",
   "metadata": {},
   "outputs": [
    {
     "data": {
      "text/plain": [
       "<ErrorbarContainer object of 3 artists>"
      ]
     },
     "execution_count": 59,
     "metadata": {},
     "output_type": "execute_result"
    },
    {
     "data": {
      "image/png": "[encoded data removed]",
      "text/plain": [
       "<Figure size 432x288 with 1 Axes>"
      ]
     },
     "metadata": {
      "needs_background": "light"
     },
     "output_type": "display_data"
    }
   ],
   "source": [
    "x, y = df_l[\"z\"].values * 10**-2, df_l[\"t\"].values * 10**-9\n",
    "coef = np.polyfit(x,y,1)\n",
    "lr = np.poly1d(coef)\n",
    "x_ = np.linspace(0, 1.80, 10000)\n",
    "plt.plot(x_, lr(x_))\n",
    "plt.errorbar(x, y, fmt=\"x\", yerr=s_t, xerr=s_z * 10**-3)"
   ]
  },
  {
   "cell_type": "code",
   "execution_count": 51,
   "id": "3f8c45c0-d73e-40f6-bb58-9566a53484c2",
   "metadata": {},
   "outputs": [
    {
     "data": {
      "text/plain": [
       "3.0292238695210285"
      ]
     },
     "execution_count": 51,
     "metadata": {},
     "output_type": "execute_result"
    }
   ],
   "source": [
    "coef[0]**-1 * 2 / 10**8"
   ]
  },
  {
   "cell_type": "code",
   "execution_count": 24,
   "id": "eb30b361-3b82-4df3-a82c-e37bda47d99e",
   "metadata": {},
   "outputs": [
    {
     "data": {
      "text/plain": [
       "0    186.0\n",
       "1    196.0\n",
       "2    191.0\n",
       "3    203.0\n",
       "4    194.0\n",
       "dtype: float64"
      ]
     },
     "execution_count": 24,
     "metadata": {},
     "output_type": "execute_result"
    }
   ],
   "source": [
    "df_a\n",
    "dx = df_a[\"x2\"]-df_a[\"x1\"]\n",
    "dx * 10"
   ]
  },
  {
   "cell_type": "code",
   "execution_count": 53,
   "id": "3f02053e-354a-410c-9594-6a1567566a47",
   "metadata": {},
   "outputs": [
    {
     "data": {
      "text/plain": [
       "(1.3995918367346938, 0.0020408163265306124)"
      ]
     },
     "execution_count": 53,
     "metadata": {},
     "output_type": "execute_result"
    }
   ],
   "source": [
    "(l_a + np.mean(dx.values) * 10) / l_a, (s_z) / l_a"
   ]
  },
  {
   "cell_type": "code",
   "execution_count": 25,
   "id": "85c9ed80-7446-4aa4-a1aa-6de3a8543dbb",
   "metadata": {},
   "outputs": [
    {
     "data": {
      "text/plain": [
       "0    241.0\n",
       "1    191.0\n",
       "2    191.0\n",
       "3    180.0\n",
       "4    176.0\n",
       "dtype: float64"
      ]
     },
     "execution_count": 25,
     "metadata": {},
     "output_type": "execute_result"
    }
   ],
   "source": [
    "\n",
    "dx = df_w[\"x2\"]-df_w[\"x1\"]\n",
    "dx * 10"
   ]
  },
  {
   "cell_type": "code",
   "execution_count": 54,
   "id": "f22441d8-5e59-4d19-8501-17fe2285ec28",
   "metadata": {},
   "outputs": [
    {
     "data": {
      "text/plain": [
       "(1.3916, 0.002)"
      ]
     },
     "execution_count": 54,
     "metadata": {},
     "output_type": "execute_result"
    }
   ],
   "source": [
    "(l_w + np.mean(dx.values) * 10) / l_w, (s_z) / l_w"
   ]
  }
 ],
 "metadata": {
  "kernelspec": {
   "display_name": "Python 3 (ipykernel)",
   "language": "python",
   "name": "python3"
  },
  "language_info": {
   "codemirror_mode": {
    "name": "ipython",
    "version": 3
   },
   "file_extension": ".py",
   "mimetype": "text/x-python",
   "name": "python",
   "nbconvert_exporter": "python",
   "pygments_lexer": "ipython3",
   "version": "3.8.7"
  }
 },
 "nbformat": 4,
 "nbformat_minor": 5
}
